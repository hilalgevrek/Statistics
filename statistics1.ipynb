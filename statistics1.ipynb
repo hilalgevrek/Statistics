{
 "cells": [
  {
   "cell_type": "code",
   "execution_count": 1,
   "id": "21f59426",
   "metadata": {},
   "outputs": [
    {
     "name": "stdout",
     "output_type": "stream",
     "text": [
      "mean: 37.0\n",
      "median: 30.0\n",
      "mode: ModeResult(mode=array([33]), count=array([3]))\n"
     ]
    }
   ],
   "source": [
    "import numpy as np\n",
    "from scipy import stats\n",
    "\n",
    "salary = [102, 33, 26, 27, 30, 25, 33, 33, 24]\n",
    "\n",
    "mean_salary = np.mean(salary)\n",
    "print(\"mean:\", mean_salary)\n",
    "\n",
    "median_salary = np.median(salary)\n",
    "print(\"median:\", median_salary)\n",
    "\n",
    "mode_salary = stats.mode(salary)\n",
    "print(\"mode:\", mode_salary)"
   ]
  },
  {
   "cell_type": "code",
   "execution_count": 2,
   "id": "8a02f4d3",
   "metadata": {},
   "outputs": [
    {
     "name": "stdout",
     "output_type": "stream",
     "text": [
      "Range:  78\n",
      "Variance:  539.5555555555555\n",
      "Std:  23.22833518691246\n"
     ]
    }
   ],
   "source": [
    "import numpy as np\n",
    "\n",
    "salary = [102, 33, 26, 27, 30, 25, 33, 33, 24]\n",
    "\n",
    "print(\"Range: \", (np.max(salary)-np.min(salary)))\n",
    "\n",
    "print(\"Variance: \", (np.var(salary)))\n",
    "\n",
    "print(\"Std: \", (np.std(salary)))"
   ]
  },
  {
   "cell_type": "code",
   "execution_count": 3,
   "id": "8561ea6a",
   "metadata": {},
   "outputs": [
    {
     "name": "stdout",
     "output_type": "stream",
     "text": [
      "covariance:  [[102.56666667  24.        ]\n",
      " [ 24.           6.8       ]]\n",
      "correlation:  [[1.         0.90876934]\n",
      " [0.90876934 1.        ]]\n"
     ]
    }
   ],
   "source": [
    "import numpy as np\n",
    "\n",
    "temp=[93,84,82,78,98,70]\n",
    "\n",
    "number_of_people=[13,10, 11, 8, 15, 9]\n",
    "\n",
    "print(\"covariance: \", np.cov(temp, number_of_people))\n",
    "\n",
    "print(\"correlation: \", np.corrcoef(temp, number_of_people))"
   ]
  }
 ],
 "metadata": {
  "kernelspec": {
   "display_name": "Python 3",
   "language": "python",
   "name": "python3"
  },
  "language_info": {
   "codemirror_mode": {
    "name": "ipython",
    "version": 3
   },
   "file_extension": ".py",
   "mimetype": "text/x-python",
   "name": "python",
   "nbconvert_exporter": "python",
   "pygments_lexer": "ipython3",
   "version": "3.8.8"
  }
 },
 "nbformat": 4,
 "nbformat_minor": 5
}
