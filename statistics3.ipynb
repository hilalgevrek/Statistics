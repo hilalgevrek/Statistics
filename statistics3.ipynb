{
 "cells": [
  {
   "cell_type": "code",
   "execution_count": 47,
   "id": "f3eb937a",
   "metadata": {},
   "outputs": [],
   "source": [
    "import numpy as np\n",
    "import pandas as pd\n",
    "from scipy import stats\n",
    "import seaborn as sns\n",
    "import matplotlib.pyplot as plt"
   ]
  },
  {
   "cell_type": "code",
   "execution_count": 48,
   "id": "e1c25b0c",
   "metadata": {},
   "outputs": [],
   "source": [
    "# Poisson Sorusu (1)"
   ]
  },
  {
   "cell_type": "code",
   "execution_count": 49,
   "id": "f546871c",
   "metadata": {},
   "outputs": [
    {
     "data": {
      "text/plain": [
       "0.049787068367863944"
      ]
     },
     "execution_count": 49,
     "metadata": {},
     "output_type": "execute_result"
    }
   ],
   "source": [
    "a = stats.poisson.pmf(k=0, mu=3)\n",
    "a"
   ]
  },
  {
   "cell_type": "code",
   "execution_count": 50,
   "id": "199d6f5c",
   "metadata": {},
   "outputs": [
    {
     "data": {
      "text/plain": [
       "0.950212931632136"
      ]
     },
     "execution_count": 50,
     "metadata": {},
     "output_type": "execute_result"
    }
   ],
   "source": [
    "1 - a "
   ]
  },
  {
   "cell_type": "code",
   "execution_count": 51,
   "id": "cd130682",
   "metadata": {},
   "outputs": [],
   "source": [
    "# Binom Sorusu (1)"
   ]
  },
  {
   "cell_type": "code",
   "execution_count": 52,
   "id": "1c6433f0",
   "metadata": {},
   "outputs": [],
   "source": [
    "n = 10  #the number of trials\n",
    "p = 0.5 #the probability of success\n",
    "x = 7   #r.v."
   ]
  },
  {
   "cell_type": "code",
   "execution_count": 53,
   "id": "5833ddbb",
   "metadata": {},
   "outputs": [
    {
     "data": {
      "text/plain": [
       "0.11718749999999999"
      ]
     },
     "execution_count": 53,
     "metadata": {},
     "output_type": "execute_result"
    }
   ],
   "source": [
    "a = stats.binom.pmf(x, n, p)  # P(x = 7)\n",
    "a"
   ]
  },
  {
   "cell_type": "code",
   "execution_count": 54,
   "id": "09eeca38",
   "metadata": {},
   "outputs": [
    {
     "data": {
      "text/plain": [
       "0.9453125"
      ]
     },
     "execution_count": 54,
     "metadata": {},
     "output_type": "execute_result"
    }
   ],
   "source": [
    "b = stats.binom.cdf(x, n, p)  # P(x ≤ 7)\n",
    "b"
   ]
  },
  {
   "cell_type": "code",
   "execution_count": 55,
   "id": "15aeab99",
   "metadata": {},
   "outputs": [
    {
     "data": {
      "text/plain": [
       "0.171875"
      ]
     },
     "execution_count": 55,
     "metadata": {},
     "output_type": "execute_result"
    }
   ],
   "source": [
    "1 - b + a  # P(x ≥ 7)"
   ]
  },
  {
   "cell_type": "code",
   "execution_count": null,
   "id": "2d3ffcb7",
   "metadata": {},
   "outputs": [],
   "source": []
  },
  {
   "cell_type": "code",
   "execution_count": 56,
   "id": "14048e60",
   "metadata": {},
   "outputs": [],
   "source": [
    "# Uniform Sorusu (2)"
   ]
  },
  {
   "cell_type": "code",
   "execution_count": 59,
   "id": "c0988e0a",
   "metadata": {},
   "outputs": [],
   "source": [
    "from scipy.stats import uniform"
   ]
  },
  {
   "cell_type": "code",
   "execution_count": 93,
   "id": "f5c2be09",
   "metadata": {},
   "outputs": [],
   "source": [
    "continuous_uniform_distribution = uniform(loc=55, scale=70)"
   ]
  },
  {
   "cell_type": "code",
   "execution_count": 96,
   "id": "6a2cbd53",
   "metadata": {},
   "outputs": [
    {
     "data": {
      "text/plain": [
       "0.014285714285714285"
      ]
     },
     "execution_count": 96,
     "metadata": {},
     "output_type": "execute_result"
    }
   ],
   "source": [
    "continuous_uniform_pdf = continuous_uniform_distribution.pdf(55)\n",
    "continuous_uniform_pdf"
   ]
  },
  {
   "cell_type": "code",
   "execution_count": 97,
   "id": "bd7bcdb7",
   "metadata": {},
   "outputs": [
    {
     "data": {
      "image/png": "[encoded data removed]",
      "text/plain": [
       "<Figure size 432x288 with 1 Axes>"
      ]
     },
     "metadata": {
      "needs_background": "light"
     },
     "output_type": "display_data"
    }
   ],
   "source": [
    "plt.plot(65, continuous_uniform_pdf)\n",
    "plt.xlabel('X')\n",
    "plt.ylabel('Probability')\n",
    "plt.show()"
   ]
  },
  {
   "cell_type": "code",
   "execution_count": null,
   "id": "4844058c",
   "metadata": {},
   "outputs": [],
   "source": []
  },
  {
   "cell_type": "code",
   "execution_count": 153,
   "id": "36cb61d7",
   "metadata": {},
   "outputs": [],
   "source": [
    "# Normal Dağılım Sorusu (3)"
   ]
  },
  {
   "cell_type": "code",
   "execution_count": 154,
   "id": "79f3a7bc",
   "metadata": {},
   "outputs": [],
   "source": [
    "mu = 950\n",
    "sigma = 10\n",
    "x = 958"
   ]
  },
  {
   "cell_type": "code",
   "execution_count": 155,
   "id": "3a8e86ed",
   "metadata": {},
   "outputs": [
    {
     "data": {
      "text/plain": [
       "0.7881446014166034"
      ]
     },
     "execution_count": 155,
     "metadata": {},
     "output_type": "execute_result"
    }
   ],
   "source": [
    "a = stats.norm.cdf(x, loc=mu, scale=sigma)  # P(X≤958)\n",
    "a"
   ]
  },
  {
   "cell_type": "code",
   "execution_count": 156,
   "id": "1de79043",
   "metadata": {},
   "outputs": [],
   "source": [
    "x = 947"
   ]
  },
  {
   "cell_type": "code",
   "execution_count": 157,
   "id": "0e578d0a",
   "metadata": {},
   "outputs": [
    {
     "data": {
      "text/plain": [
       "0.3820885778110474"
      ]
     },
     "execution_count": 157,
     "metadata": {},
     "output_type": "execute_result"
    }
   ],
   "source": [
    "b = stats.norm.cdf(x, loc=mu, scale=sigma)  # P(947≤X)\n",
    "b"
   ]
  },
  {
   "cell_type": "code",
   "execution_count": 158,
   "id": "12be53e8",
   "metadata": {},
   "outputs": [
    {
     "data": {
      "text/plain": [
       "0.406056023605556"
      ]
     },
     "execution_count": 158,
     "metadata": {},
     "output_type": "execute_result"
    }
   ],
   "source": [
    "a-b  # P(947<X<958)"
   ]
  },
  {
   "cell_type": "code",
   "execution_count": 174,
   "id": "b0278829",
   "metadata": {},
   "outputs": [],
   "source": [
    "q = 0.8531"
   ]
  },
  {
   "cell_type": "code",
   "execution_count": 175,
   "id": "6adc57ae",
   "metadata": {},
   "outputs": [
    {
     "data": {
      "text/plain": [
       "1.0498219096264123"
      ]
     },
     "execution_count": 175,
     "metadata": {},
     "output_type": "execute_result"
    }
   ],
   "source": [
    "stats.norm.ppf(q) "
   ]
  },
  {
   "cell_type": "code",
   "execution_count": 176,
   "id": "57f64ad8",
   "metadata": {},
   "outputs": [
    {
     "data": {
      "text/plain": [
       "960.4982190962642"
      ]
     },
     "execution_count": 176,
     "metadata": {},
     "output_type": "execute_result"
    }
   ],
   "source": [
    "stats.norm.ppf(q, mu, sigma)"
   ]
  },
  {
   "cell_type": "code",
   "execution_count": null,
   "id": "fe38b856",
   "metadata": {},
   "outputs": [],
   "source": [
    "# Normal Dağılım Sorusu (5)"
   ]
  },
  {
   "cell_type": "code",
   "execution_count": null,
   "id": "6e12a06c",
   "metadata": {},
   "outputs": [],
   "source": [
    "stats.t.interval(1 - 0.05, 21 - 1, loc=99.1, scale= 3 / np.sqrt(21))"
   ]
  }
 ],
 "metadata": {
  "kernelspec": {
   "display_name": "Python 3 (ipykernel)",
   "language": "python",
   "name": "python3"
  },
  "language_info": {
   "codemirror_mode": {
    "name": "ipython",
    "version": 3
   },
   "file_extension": ".py",
   "mimetype": "text/x-python",
   "name": "python",
   "nbconvert_exporter": "python",
   "pygments_lexer": "ipython3",
   "version": "3.9.7"
  }
 },
 "nbformat": 4,
 "nbformat_minor": 5
}
